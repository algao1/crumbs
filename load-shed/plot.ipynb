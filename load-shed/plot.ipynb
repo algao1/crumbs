{
 "cells": [
  {
   "cell_type": "code",
   "execution_count": null,
   "metadata": {},
   "outputs": [],
   "source": [
    "import matplotlib.pyplot as plt\n",
    "from collections import defaultdict"
   ]
  },
  {
   "cell_type": "code",
   "execution_count": null,
   "metadata": {},
   "outputs": [],
   "source": [
    "data = defaultdict(list)\n",
    "with open(\"out1.txt\") as f:\n",
    "\tfor line in f:\n",
    "\t\titems = line.strip().split(\",\")\n",
    "\t\tfor item in items:\n",
    "\t\t\tkey, value = item.strip().split(\":\")\n",
    "\t\t\tif key == \"inflight\":\n",
    "\t\t\t\ti_cur, i_max = value.strip()[1:-1].split(\"/\")\n",
    "\t\t\t\tdata[\"inflight_cur\"].append(float(i_cur))\n",
    "\t\t\t\tdata[\"inflight_max\"].append(float(i_max))\n",
    "\t\t\telse:\n",
    "\t\t\t\tdata[key].append(float(value))"
   ]
  },
  {
   "cell_type": "code",
   "execution_count": null,
   "metadata": {},
   "outputs": [],
   "source": [
    "fig, ax = plt.subplots()\n",
    "ax.plot(data[\"rejected\"], label=\"rejected\")\n",
    "ax.plot(data[\"in\"], label=\"in\")\n",
    "ax.plot(data[\"out\"], label=\"out\")\n",
    "ax.legend()\n",
    "plt.show()"
   ]
  },
  {
   "cell_type": "code",
   "execution_count": null,
   "metadata": {},
   "outputs": [],
   "source": [
    "fig, ax1 = plt.subplots()\n",
    "ln1 = ax1.plot(data[\"ratio\"], label=\"ratio\", color=\"red\")\n",
    "ax2 = ax1.twinx()\n",
    "ln2 = ax2.plot(data[\"inflight_max\"], label=\"inflight_max\")\n",
    "\n",
    "lns = ln1 + ln2\n",
    "labs = [l.get_label() for l in lns]\n",
    "ax1.legend(lns, labs)\n",
    "\n",
    "plt.show()"
   ]
  },
  {
   "cell_type": "code",
   "execution_count": null,
   "metadata": {},
   "outputs": [],
   "source": []
  }
 ],
 "metadata": {
  "kernelspec": {
   "display_name": "load-shed",
   "language": "python",
   "name": "python3"
  },
  "language_info": {
   "codemirror_mode": {
    "name": "ipython",
    "version": 3
   },
   "file_extension": ".py",
   "mimetype": "text/x-python",
   "name": "python",
   "nbconvert_exporter": "python",
   "pygments_lexer": "ipython3",
   "version": "3.10.12"
  }
 },
 "nbformat": 4,
 "nbformat_minor": 2
}
